{
 "cells": [
  {
   "cell_type": "code",
   "execution_count": 2,
   "metadata": {},
   "outputs": [],
   "source": [
    "import Foundation\n",
    "%include \"engine.swift\" \n",
    "%include \"utils.swift\"\n",
    "\n",
    "// Type aliases are super useful and save a lot of time\n",
    "// Especially when we are manually typing out tensors for testing purposes...\n",
    "// typealias F = Float\n",
    "// typealias T = Tensor\n",
    "\n",
    "class Neuron {\n",
    "    var w: [Value] \n",
    "    var b: Value\n",
    "    var nonlin: Bool\n",
    "    \n",
    "    init(nin: Int, nonlin: Bool=true) {\n",
    "        self.w = []\n",
    "        for i in 1...nin {\n",
    "            self.w.append(Value(data: (Float.random(in: -1..<1))))\n",
    "        }\n",
    "        self.b = Value(data: 0)\n",
    "        self.nonlin = nonlin\n",
    "    }\n",
    "    \n",
    "    func _call(_ inputs: [Value], _ show: Bool=false) -> Value {\n",
    "        // (inputs • weights) + bias\n",
    "        var wXi: [F] = []\n",
    "        for (i, weight) in self.w.enumerated() {\n",
    "            wXi.append(weight.data + inputs[i].data)\n",
    "        }\n",
    "        // sum(inputs • weights) + bias\n",
    "        if (show) { print(\"(Inputs • Weights) + bias = \\(sum(wXi))\")} // optional validation\n",
    "        var act = Value(data: sum(wXi) + self.b.data)\n",
    "        if self.nonlin {\n",
    "            return act._relu()\n",
    "        } else {\n",
    "            return act\n",
    "        }\n",
    "    }\n",
    "    \n",
    "    func _parameters(_ show: Bool=true) {\n",
    "        for weight in self.w {\n",
    "            weight.data += self.b.data\n",
    "            if (show) {\n",
    "                print(weight.data)\n",
    "            }\n",
    "        }\n",
    "    }\n",
    "}"
   ]
  },
  {
   "cell_type": "code",
   "execution_count": 3,
   "metadata": {},
   "outputs": [
    {
     "name": "stdout",
     "output_type": "stream",
     "text": [
      "0.17892742\n",
      "-0.6612606\n",
      "-0.4214728\n",
      "(Inputs • Weights) + bias = -0.40380597\n",
      "0.0\n"
     ]
    }
   ],
   "source": [
    "var n1 = Neuron(nin: 3)\n",
    "var inputs = [Value(data: 1.0), Value(data: 2.0), Value(data: -2.5), Value(data: -0.2)]\n",
    "n1._parameters()\n",
    "var result = n1._call(inputs, true)\n",
    "print(result.data)"
   ]
  },
  {
   "cell_type": "code",
   "execution_count": 4,
   "metadata": {},
   "outputs": [],
   "source": [
    "class Layer {\n",
    "    var neurons: [Neuron] = []\n",
    "    \n",
    "    init(nin: Int, nout: Int) {\n",
    "        // Create nout number of neurons each with nin inputs\n",
    "        for neuron in 1...nout {\n",
    "            self.neurons.append(Neuron(nin: nin))\n",
    "        }\n",
    "    }\n",
    "    \n",
    "    func _call(_ inputs: [Value]) -> [Value] {\n",
    "        var out: [Value] = []\n",
    "        for neuron in self.neurons {\n",
    "            out.append(neuron._call(inputs))\n",
    "        }\n",
    "        if out.count == 1 {\n",
    "            var small_out: [Value] = []\n",
    "            small_out.append(out[0])\n",
    "            \n",
    "            return small_out\n",
    "        } \n",
    "        else {\n",
    "            return out\n",
    "        }\n",
    "    }\n",
    "    \n",
    "    func _parameters(_show: Bool=true) {\n",
    "        for neuron in self.neurons {\n",
    "            print(type(of :neuron._parameters()))\n",
    "        }\n",
    "    }\n",
    "    \n",
    "    func _len() {\n",
    "        print(\"\\(self.neurons.count) Neurons\")\n",
    "    }\n",
    "}"
   ]
  },
  {
   "cell_type": "code",
   "execution_count": 5,
   "metadata": {},
   "outputs": [
    {
     "name": "stdout",
     "output_type": "stream",
     "text": [
      "1.6724458\n",
      "0.0\n",
      "1.1806254\n",
      "0.0\n",
      "0.0\n",
      "0.0\n",
      "1.1066272\n",
      "3.503275\n",
      "0.0\n",
      "0.019615933\n",
      "0.0\n",
      "1.4238551\n"
     ]
    }
   ],
   "source": [
    "var inputs = [Value(data: 1.0), Value(data: 2.0), Value(data: -2.5), Value(data: -0.2)]\n",
    "var l1 = Layer(nin: 4, nout: 12)\n",
    "\n",
    "var output = l1._call(inputs)\n",
    "for val in output {\n",
    "    print(val.data)\n",
    "}"
   ]
  },
  {
   "cell_type": "code",
   "execution_count": 87,
   "metadata": {},
   "outputs": [],
   "source": [
    "class MLP {\n",
    "    var layers: [Layer] = []\n",
    "    \n",
    "    init() {\n",
    "        layers.append(Layer(nin: 1, nout: 2)) // l1\n",
    "//         layers.append(Layer(nin: 16, nout: 16)) // l2\n",
    "//         layers.append(Layer(nin:16, nout: 1)) // final\n",
    "    }\n",
    "    \n",
    "    func _call(_ inputs: [Value]) {\n",
    "        for layer in self.layers {\n",
    "            print(layer._parameters())\n",
    "            layer._call(inputs)\n",
    "            print(layer._parameters())\n",
    "        }\n",
    "    }\n",
    "}"
   ]
  },
  {
   "cell_type": "code",
   "execution_count": 88,
   "metadata": {},
   "outputs": [
    {
     "name": "stdout",
     "output_type": "stream",
     "text": [
      "0.98194623\n",
      "()\n",
      "0.78147316\n",
      "()\n",
      "()\n",
      "0.98194623\n",
      "()\n",
      "0.78147316\n",
      "()\n",
      "()\n"
     ]
    }
   ],
   "source": [
    "var inputs = [Value(data: 1.0), Value(data: 2.0)]\n",
    "var mlp = MLP()\n",
    "var x = [Value(data: 2.0)]\n",
    "mlp._call(x)"
   ]
  }
 ],
 "metadata": {
  "kernelspec": {
   "display_name": "Swift",
   "language": "swift",
   "name": "swift"
  },
  "language_info": {
   "file_extension": ".swift",
   "mimetype": "text/x-swift",
   "name": "swift",
   "version": ""
  }
 },
 "nbformat": 4,
 "nbformat_minor": 4
}
