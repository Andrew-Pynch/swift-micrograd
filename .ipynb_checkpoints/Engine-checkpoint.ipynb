{
 "cells": [
  {
   "cell_type": "code",
   "execution_count": 11,
   "metadata": {},
   "outputs": [],
   "source": [
    "import TensorFlow\n",
    "import Foundation\n",
    "\n",
    "// Allow us to just call T<type> instead of explicitly type Tensor<type>\n",
    "typealias T = Tensor"
   ]
  },
  {
   "cell_type": "code",
   "execution_count": 23,
   "metadata": {},
   "outputs": [],
   "source": [
    "public struct Value {\n",
    "    var data: T<Float>\n",
    "}"
   ]
  },
  {
   "cell_type": "code",
   "execution_count": 25,
   "metadata": {},
   "outputs": [
    {
     "ename": "",
     "evalue": "",
     "output_type": "error",
     "traceback": [
      "error: <Cell 25>:1:13: error: argument passed to call that takes no arguments\nValue(data: [[1, 2, 3]])\n            ^~~~~~~~~~~\n\n"
     ]
    }
   ],
   "source": [
    "Value(data: [[1, 2, 3]])"
   ]
  },
  {
   "cell_type": "code",
   "execution_count": 30,
   "metadata": {},
   "outputs": [],
   "source": [
    "struct myStructWithInit {\n",
    "    let myString: String?\n",
    "    let myInt: Int?\n",
    "    let myDouble: Double?\n",
    "    \n",
    "    init(myString: String? = nil, //👈\n",
    "         myInt: Int? = nil,\n",
    "         myDouble: Double? = nil) {\n",
    "        \n",
    "        self.myString = myString\n",
    "        self.myInt = myInt\n",
    "        self.myDouble = myDouble\n",
    "    }\n",
    "}"
   ]
  },
  {
   "cell_type": "code",
   "execution_count": 31,
   "metadata": {},
   "outputs": [
    {
     "ename": "",
     "evalue": "",
     "output_type": "error",
     "traceback": [
      "error: <Cell 31>:1:9: error: missing arguments for parameters 'myString', 'myInt', 'myDouble' in call\nmyStruct()\n        ^\n         myString: <#String?#>, myInt: <#Int?#>, myDouble: <#Double?#>\n\n"
     ]
    }
   ],
   "source": [
    "myStruct()"
   ]
  }
 ],
 "metadata": {
  "kernelspec": {
   "display_name": "Swift",
   "language": "swift",
   "name": "swift"
  },
  "language_info": {
   "file_extension": ".swift",
   "mimetype": "text/x-swift",
   "name": "swift",
   "version": ""
  }
 },
 "nbformat": 4,
 "nbformat_minor": 4
}
