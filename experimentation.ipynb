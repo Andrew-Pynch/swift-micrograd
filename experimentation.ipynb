{
 "cells": [
  {
   "cell_type": "code",
   "execution_count": 181,
   "metadata": {},
   "outputs": [],
   "source": [
    "import TensorFlow\n",
    "import Foundation\n",
    "%include \"engine.swift\" \n",
    "%include \"utils.swift\""
   ]
  },
  {
   "cell_type": "code",
   "execution_count": 182,
   "metadata": {},
   "outputs": [],
   "source": [
    "// Type aliases are super useful and save a lot of time\n",
    "// Especially when we are manually typing out tensors for testing purposes...\n",
    "typealias F = Float\n",
    "typealias T = Tensor"
   ]
  },
  {
   "cell_type": "code",
   "execution_count": 183,
   "metadata": {},
   "outputs": [
    {
     "ename": "",
     "evalue": "",
     "output_type": "error",
     "traceback": [
      "error: <Cell 183>:10:27: error: '>' is not a postfix unary operator\n        return Array<Value> = []\n                          ^\n\n"
     ]
    }
   ],
   "source": [
    "// Init with arrays of values for parameters?? \n",
    "class Module {\n",
    "    func zero_grad() {\n",
    "        for p in self.parameters() {\n",
    "            p.grad = 0\n",
    "        }\n",
    "    }\n",
    "    \n",
    "    func parameters() -> Array<Value> {\n",
    "        return Array<Value> = []\n",
    "    }\n",
    "}"
   ]
  },
  {
   "cell_type": "code",
   "execution_count": 201,
   "metadata": {},
   "outputs": [],
   "source": []
  }
 ],
 "metadata": {
  "kernelspec": {
   "display_name": "Swift",
   "language": "swift",
   "name": "swift"
  },
  "language_info": {
   "file_extension": ".swift",
   "mimetype": "text/x-swift",
   "name": "swift",
   "version": ""
  }
 },
 "nbformat": 4,
 "nbformat_minor": 4
}
