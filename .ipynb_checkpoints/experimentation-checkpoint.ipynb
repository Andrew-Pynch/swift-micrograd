{
 "cells": [
  {
   "cell_type": "code",
   "execution_count": 2,
   "metadata": {},
   "outputs": [],
   "source": [
    "import TensorFlow\n",
    "import Foundation\n",
    "%include \"engine.swift\" "
   ]
  },
  {
   "cell_type": "code",
   "execution_count": 3,
   "metadata": {},
   "outputs": [],
   "source": [
    "// Type aliases are super useful and save a lot of time\n",
    "// Especially when we are manually typing out tensors for testing purposes...\n",
    "typealias F = Float\n",
    "typealias T = Tensor"
   ]
  },
  {
   "cell_type": "code",
   "execution_count": 6,
   "metadata": {},
   "outputs": [
    {
     "ename": "",
     "evalue": "",
     "output_type": "error",
     "traceback": [
      "error: <Cell 6>:10:27: error: '>' is not a postfix unary operator\n        return Array<Value> = []\n                          ^\n\n"
     ]
    }
   ],
   "source": [
    "// Init with arrays of values for parameters?? \n",
    "class Module {\n",
    "    func zero_grad() {\n",
    "        for p in self.parameters() {\n",
    "            p.grad = 0\n",
    "        }\n",
    "    }\n",
    "    \n",
    "    func parameters() -> Array<Value> {\n",
    "        return Array<Value> = []\n",
    "    }\n",
    "}"
   ]
  },
  {
   "cell_type": "code",
   "execution_count": 140,
   "metadata": {},
   "outputs": [],
   "source": [
    "class Neuron {\n",
    "    var w: [Value] \n",
    "    var b: Value\n",
    "    var nonlin: Bool\n",
    "    \n",
    "    init(nin: Int, nonlin: Bool=true) {\n",
    "        self.w = []\n",
    "        for i in 0...nin {\n",
    "            self.w.append(Value(data: (Float.random(in: -1..<1))))\n",
    "        }\n",
    "        self.b = Value(data: 10)\n",
    "        self.nonlin = nonlin\n",
    "    }\n",
    "    \n",
    "    func _call(_ x:)\n",
    "    \n",
    "    func _parameters(_ show: Bool=false) {\n",
    "        for weight in self.w {\n",
    "            weight.data += self.b.data\n",
    "            if (show) {\n",
    "                print(weight.data)\n",
    "            }\n",
    "        }\n",
    "    }\n",
    "}"
   ]
  },
  {
   "cell_type": "code",
   "execution_count": 141,
   "metadata": {},
   "outputs": [
    {
     "name": "stdout",
     "output_type": "stream",
     "text": [
      "9.19674\r\n",
      "9.464493\r\n",
      "10.422462\r\n",
      "9.24736\r\n"
     ]
    }
   ],
   "source": [
    "var n1 = Neuron(nin: 3)\n",
    "n1.parameters(true)"
   ]
  }
 ],
 "metadata": {
  "kernelspec": {
   "display_name": "Swift",
   "language": "swift",
   "name": "swift"
  },
  "language_info": {
   "file_extension": ".swift",
   "mimetype": "text/x-swift",
   "name": "swift",
   "version": ""
  }
 },
 "nbformat": 4,
 "nbformat_minor": 4
}
